{
 "cells": [
  {
   "cell_type": "markdown",
   "id": "f0eea3cd",
   "metadata": {},
   "source": [
    "# CS224N Post-Training\n",
    "\n",
    "## Introduction\n",
    "\n",
    "About generalization and emergent abilities of large language models...\n",
    "\n",
    "What have large language models have been learning during the pre-training process?\n",
    "\n",
    "- Syntax\n",
    "- Knowledge\n",
    "- More: Models of agents, beliefs and actions as well.\n",
    "\n",
    "That is called **world models**, where AI can be generalized as general intelligence.\n",
    "\n"
   ]
  }
 ],
 "metadata": {
  "language_info": {
   "name": "python"
  }
 },
 "nbformat": 4,
 "nbformat_minor": 5
}
