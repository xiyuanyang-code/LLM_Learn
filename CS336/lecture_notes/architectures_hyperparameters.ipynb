{
 "cells": [
  {
   "cell_type": "markdown",
   "id": "aa48fb05",
   "metadata": {},
   "source": [
    "# Lecture 3 Architectures & Hyperparameter"
   ]
  },
  {
   "cell_type": "markdown",
   "id": "79bdddd4",
   "metadata": {},
   "source": [
    "# Architecture for Transformer (classic)"
   ]
  },
  {
   "cell_type": "markdown",
   "id": "4a1dc158",
   "metadata": {},
   "source": [
    "# Hyperparameter Settings"
   ]
  }
 ],
 "metadata": {
  "language_info": {
   "name": "python"
  }
 },
 "nbformat": 4,
 "nbformat_minor": 5
}
