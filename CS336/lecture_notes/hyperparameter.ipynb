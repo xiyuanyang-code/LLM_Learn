{
 "cells": [
  {
   "cell_type": "markdown",
   "id": "162d8c5b",
   "metadata": {},
   "source": [
    "# CS 336 Lecture 3.2 Hyperparameter for Large Language Models"
   ]
  }
 ],
 "metadata": {
  "language_info": {
   "name": "python"
  }
 },
 "nbformat": 4,
 "nbformat_minor": 5
}
