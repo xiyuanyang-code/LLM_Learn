{
 "cells": [
  {
   "cell_type": "markdown",
   "id": "1d6c940f",
   "metadata": {},
   "source": [
    "# CS224N PreTraining & Advanced Transformer\n",
    "\n",
    "The 4th lesson of CS336 will dive deep into MoE structure, which is too complex for a large language model greenhand... Thus, I decide to learn CS224n first for basic techniques for advanced transformers, pre-training and post-training."
   ]
  },
  {
   "cell_type": "markdown",
   "id": "fbfd7b9b",
   "metadata": {},
   "source": [
    "# Lecture 8: Transformer"
   ]
  },
  {
   "cell_type": "markdown",
   "id": "acfd5230",
   "metadata": {},
   "source": [
    "RNN problems: Fail to learn long-term dependencies for it requires $O(N)$"
   ]
  }
 ],
 "metadata": {
  "language_info": {
   "name": "python"
  }
 },
 "nbformat": 4,
 "nbformat_minor": 5
}
