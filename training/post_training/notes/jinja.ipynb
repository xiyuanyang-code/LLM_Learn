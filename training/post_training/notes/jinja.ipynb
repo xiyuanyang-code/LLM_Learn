{
 "cells": [
  {
   "cell_type": "markdown",
   "id": "af556f11",
   "metadata": {},
   "source": [
    "# Introduction of `Jinja`"
   ]
  },
  {
   "cell_type": "markdown",
   "id": "8357b18d",
   "metadata": {},
   "source": [
    "## Introduction\n",
    "\n",
    "Jinja is a modern and designer-friendly templating language for Python. It's used to generate dynamic output, such as HTML, XML, or other text formats, by combining a static template with dynamic data.\n",
    "\n",
    "Jinja 有自己灵活并且完整的一套逻辑控制流语言，可以出色的完成模版替换等会复杂的工作，而不仅仅是 `str.replace()` 等这样的简单的文本替换操作。"
   ]
  },
  {
   "cell_type": "code",
   "execution_count": null,
   "id": "c1456311",
   "metadata": {},
   "outputs": [],
   "source": [
    "from jinja2 import FileSystemLoader, Environment\n",
    "\n",
    "# loading environment\n",
    "env = Environment(loader=FileSystemLoader(\".\"))\n",
    "\n",
    "# getting template html\n",
    "template = env.get_template(\"template.html\")\n",
    "\n",
    "# personal data\n",
    "data = {\n",
    "    \"page_title\": \"我的个人页面\",\n",
    "    \"name\": \"Jinja\",\n",
    "    \"colors\": [\"蓝色\", \"绿色\", \"红色\"],\n",
    "    \"data\": [1, 2, 3],\n",
    "}\n",
    "\n",
    "render_html = template.render(data)\n",
    "with open(\"./output.html\", \"w\", encoding=\"utf-8\") as file:\n",
    "    file.write(render_html)"
   ]
  },
  {
   "cell_type": "markdown",
   "id": "6b983991",
   "metadata": {},
   "source": [
    "## Grammar Laws for jinja\n",
    "\n",
    "jinja **本质上还是在做特定字符串的高级替换**，只不过是一个更加 high level 的脚本并且提供了 Template 的功能。\n",
    "\n",
    "因此，jinja 在 render 的时候，会和对应的 Python 中的数据结构**做适配**，无非就是单个值、列表和字典。\n",
    "\n",
    "- variables: `{{% ... %}}`\n",
    "    - The usage of object is allowed: `{{% user.name %}}`, `{{ data[0] }}`, etc.\n",
    "\n",
    "\n",
    "- if-else for control statements\n",
    "\n",
    "    ```html\n",
    "    {% if score > 90 %}\n",
    "    <p>恭喜你，成绩优秀！</p>\n",
    "    {% elif score > 60 %}\n",
    "    <p>成绩合格。</p>\n",
    "    {% else %}\n",
    "    <p>需要努力！</p>\n",
    "    {% endif %}\n",
    "    ```\n",
    "\n",
    "- for loops\n",
    "\n",
    "    ```html\n",
    "    {% for item in sequence %}\n",
    "        ... do something with item ...\n",
    "    {% endfor %}\n",
    "    ```\n",
    "\n",
    "- comments\n",
    "    - `{# There are some comments here. #}`\n",
    "\n",
    "\n",
    "- Advanced usage: **Filters**\n",
    "\n",
    "    过滤器用于修改变量的显示方式。\n",
    "\n",
    "    - 格式: `{{ variable | filter_name }}`\n",
    "\n",
    "    - 作用: 将变量的值通过一个“**过滤器**”进行处理后再显示。\n",
    "\n",
    "        - 将文本首字母大写: `{{ 'hello world' | capitalize }} -> Hello world`\n",
    "\n",
    "        - 将文本转换为大写: `{{ 'hello world' | upper }} -> HELLO WORLD`\n",
    "\n",
    "        - 格式化日期: `{{ current_date | date('%Y-%m-%d') }}`\n",
    "\n",
    "\n"
   ]
  },
  {
   "cell_type": "markdown",
   "id": "903bd05f",
   "metadata": {},
   "source": [
    "## `Jinja` in Tokenizer and Large Language Models\n",
    "\n",
    "`Jinja` 在大语言模型的应用上常用于**提示词的模版构建**和**模型窗口上下文模版的构建**。\n",
    "\n",
    "### Constructing Prompt Templates"
   ]
  },
  {
   "cell_type": "code",
   "execution_count": null,
   "id": "9126e43a",
   "metadata": {},
   "outputs": [],
   "source": [
    "from jinja2 import FileSystemLoader, Environment\n",
    "\n",
    "# loading environment\n",
    "env = Environment(loader=FileSystemLoader(\".\"))\n",
    "\n",
    "# getting template html\n",
    "template = env.get_template(\"prompt_template.jinja2\")\n",
    "\n",
    "user_queries = [\"What is the biggest number in the world?\", \"How to prove that 1+1=2\"]\n",
    "\n",
    "prompts = [template.render(user_query=query) for query in user_queries]\n",
    "\n",
    "for prompt in prompts:\n",
    "    print(prompt)"
   ]
  },
  {
   "cell_type": "markdown",
   "id": "a49923d3",
   "metadata": {},
   "source": [
    "### Role Playing in Context constructing\n",
    "\n",
    "Different roles in long context:\n",
    "\n",
    "- System\n",
    "- User\n",
    "- Assistant\n",
    "\n",
    "> Very useful in long-context constructing!"
   ]
  },
  {
   "cell_type": "code",
   "execution_count": 12,
   "id": "3bef71a2",
   "metadata": {},
   "outputs": [
    {
     "name": "stdout",
     "output_type": "stream",
     "text": [
      "\n",
      "\n",
      "system: 你是一个严谨的科学助手，只回答和科学相关的问题。\n",
      "\n",
      "\n",
      "\n",
      "user: 太阳的核心温度是多少？\n",
      "\n",
      "\n",
      "\n",
      "assistant: 太阳核心的温度大约是1500万摄氏度。\n",
      "\n",
      "\n",
      "\n",
      "user: 昨天晚上我吃了什么？\n",
      "\n",
      "\n"
     ]
    }
   ],
   "source": [
    "from jinja2 import Environment, FileSystemLoader\n",
    "\n",
    "env = Environment(loader=FileSystemLoader(\".\"))\n",
    "template = env.get_template(\"chat_template.jinja2\")\n",
    "\n",
    "dialogue_history = [\n",
    "    {\"role\": \"system\", \"content\": \"你是一个严谨的科学助手，只回答和科学相关的问题。\"},\n",
    "    {\"role\": \"user\", \"content\": \"太阳的核心温度是多少？\"},\n",
    "    {\"role\": \"assistant\", \"content\": \"太阳核心的温度大约是1500万摄氏度。\"},\n",
    "    {\"role\": \"user\", \"content\": \"昨天晚上我吃了什么？\"},\n",
    "]\n",
    "\n",
    "prompt = template.render(messages=dialogue_history)\n",
    "print(prompt)"
   ]
  }
 ],
 "metadata": {
  "kernelspec": {
   "display_name": "tuning",
   "language": "python",
   "name": "python3"
  },
  "language_info": {
   "codemirror_mode": {
    "name": "ipython",
    "version": 3
   },
   "file_extension": ".py",
   "mimetype": "text/x-python",
   "name": "python",
   "nbconvert_exporter": "python",
   "pygments_lexer": "ipython3",
   "version": "3.13.7"
  }
 },
 "nbformat": 4,
 "nbformat_minor": 5
}
