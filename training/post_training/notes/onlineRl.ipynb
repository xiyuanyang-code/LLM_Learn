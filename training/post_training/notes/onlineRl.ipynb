{
 "cells": [
  {
   "cell_type": "markdown",
   "id": "7d967afd",
   "metadata": {},
   "source": [
    "# Online Reinforcement Learning\n",
    "\n",
    "[Course Websites](https://www.deeplearning.ai/short-courses/post-training-of-llms/)"
   ]
  },
  {
   "cell_type": "markdown",
   "id": "5781a096",
   "metadata": {},
   "source": [
    "## Introduction\n",
    "\n",
    "- Offline RL: The model learns from a purely pre-collected prompt-response(-reward) tuple. It is like a huge defined table for action space and reward functions. No fresh responses generated during the training process.\n",
    "    - It is more like a detective.\n",
    "    - The action space and reward functions are all finite.\n",
    "    - The ultimate goal for offline RL is to"
   ]
  }
 ],
 "metadata": {
  "language_info": {
   "name": "python"
  }
 },
 "nbformat": 4,
 "nbformat_minor": 5
}
