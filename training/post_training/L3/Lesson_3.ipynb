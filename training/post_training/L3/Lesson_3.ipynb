{
 "cells": [
  {
   "cell_type": "markdown",
   "id": "dc935f2b-a58b-4110-8918-96c868047b38",
   "metadata": {},
   "source": [
    "# L3: Supervised Fine-Tuning (SFT)"
   ]
  },
  {
   "cell_type": "markdown",
   "id": "68ec12b0",
   "metadata": {},
   "source": [
    "<p style= padding:15px; border-width:3px; border-color:#f5ecda; border-style:solid; border-radius:6px\"> ⏳ <b>Note <code>(Kernel Starting)</code>:</b> This notebook takes about 30 seconds to be ready to use. You may start and watch the video while you wait.</p>"
   ]
  },
  {
   "cell_type": "code",
   "execution_count": 3,
   "id": "d76b86a7-7a45-4749-866e-0d561041bce1",
   "metadata": {
    "height": 64
   },
   "outputs": [],
   "source": [
    "# Warning control\n",
    "import warnings\n",
    "\n",
    "warnings.filterwarnings(\"ignore\")"
   ]
  },
  {
   "cell_type": "markdown",
   "id": "9bbfc986-9ac7-4a2d-9dd0-a76841c7f46d",
   "metadata": {},
   "source": [
    "## Import libraries"
   ]
  },
  {
   "cell_type": "code",
   "execution_count": 4,
   "id": "3304e49d-bd1e-469b-a5b4-5edb16ecf344",
   "metadata": {
    "height": 98
   },
   "outputs": [],
   "source": [
    "import torch\n",
    "import pandas as pd\n",
    "from datasets import load_dataset, Dataset\n",
    "from transformers import TrainingArguments, AutoTokenizer, AutoModelForCausalLM\n",
    "from trl import SFTTrainer, SFTConfig"
   ]
  },
  {
   "cell_type": "markdown",
   "id": "139f2ab3",
   "metadata": {},
   "source": [
    "<!-- <div style=\"background-color:#fff6ff; padding:13px; border-width:3px; border-color:#efe6ef; border-style:solid; border-radius:6px\"> -->\n",
    "<p> 💻 &nbsp; <b>Access <code>requirements.txt</code> file:</b> 1) click on the <em>\"File\"</em> option on the top menu of the notebook and then 2) click on <em>\"Open\"</em>.</p>\n",
    "\n",
    "<p> ⬇ &nbsp; <b>Download Notebooks:</b> 1) click on the <em>\"File\"</em> option on the top menu of the notebook and then 2) click on <em>\"Download as\"</em> and select <em>\"Notebook (.ipynb)\"</em>.</p>\n",
    "\n",
    "<p> 📒 &nbsp; For more help, please see the <em>\"Appendix – Tips, Help, and Download\"</em> Lesson.</p>\n",
    "</div>"
   ]
  },
  {
   "cell_type": "markdown",
   "id": "3cc63b02-5e9a-4a83-b042-4a2386cf5976",
   "metadata": {},
   "source": [
    "## Setting up helper functions"
   ]
  },
  {
   "cell_type": "code",
   "execution_count": null,
   "id": "69982ae0-755e-48cf-ba4c-3b83b091fd9a",
   "metadata": {
    "height": 557
   },
   "outputs": [],
   "source": [
    "def generate_responses(\n",
    "    model, tokenizer, user_message, system_message=None, max_new_tokens=100\n",
    "):\n",
    "    # Format chat using tokenizer's chat template\n",
    "    messages = []\n",
    "    if system_message:\n",
    "        messages.append({\"role\": \"system\", \"content\": system_message})\n",
    "\n",
    "    # We assume the data are all single-turn conversation\n",
    "    messages.append({\"role\": \"user\", \"content\": user_message})\n",
    "\n",
    "    prompt = tokenizer.apply_chat_template(\n",
    "        messages,\n",
    "        tokenize=False,\n",
    "        add_generation_prompt=True,\n",
    "        enable_thinking=False,\n",
    "    )\n",
    "\n",
    "    inputs = tokenizer(prompt, return_tensors=\"pt\").to(model.device)\n",
    "    # Recommended to use vllm, sglang or TensorRT\n",
    "    # todo use vllm to replace model.generate\n",
    "    with torch.no_grad():\n",
    "        outputs = model.generate(\n",
    "            **inputs,\n",
    "            max_new_tokens=max_new_tokens,\n",
    "            do_sample=False,\n",
    "            pad_token_id=tokenizer.eos_token_id,\n",
    "            eos_token_id=tokenizer.eos_token_id,\n",
    "        )\n",
    "    input_len = inputs[\"input_ids\"].shape[1]\n",
    "    generated_ids = outputs[0][input_len:]\n",
    "    response = tokenizer.decode(generated_ids, skip_special_tokens=True).strip()\n",
    "\n",
    "    return response"
   ]
  },
  {
   "cell_type": "code",
   "execution_count": null,
   "id": "234e5b05-a493-4683-91fd-7417885efc0f",
   "metadata": {
    "height": 149
   },
   "outputs": [],
   "source": [
    "def test_model_with_questions(\n",
    "    model, tokenizer, questions, system_message=None, title=\"Model Output\"\n",
    "):\n",
    "    print(f\"\\n=== {title} ===\")\n",
    "    for i, question in enumerate(questions, 1):\n",
    "        response = generate_responses(model, tokenizer, question, system_message)\n",
    "        print(f\"\\nModel Input {i}:\\n{question}\\nModel Output {i}:\\n{response}\\n\")"
   ]
  },
  {
   "cell_type": "code",
   "execution_count": null,
   "id": "9c273931-6827-4ee1-af1a-83a99bf94bf7",
   "metadata": {
    "height": 402
   },
   "outputs": [],
   "source": [
    "def load_model_and_tokenizer(model_name, use_gpu=False):\n",
    "\n",
    "    # Load base model and tokenizer\n",
    "    tokenizer = AutoTokenizer.from_pretrained(model_name)\n",
    "    model = AutoModelForCausalLM.from_pretrained(model_name)\n",
    "\n",
    "    if use_gpu:\n",
    "        model.to(\"cuda\")\n",
    "\n",
    "    if not tokenizer.chat_template:\n",
    "        # using jinja model template\n",
    "        tokenizer.chat_template = \"\"\"{% for message in messages %}\n",
    "                {% if message['role'] == 'system' %}System: {{ message['content'] }}\\n\n",
    "                {% elif message['role'] == 'user' %}User: {{ message['content'] }}\\n\n",
    "                {% elif message['role'] == 'assistant' %}Assistant: {{ message['content'] }} <|endoftext|>\n",
    "                {% endif %}\n",
    "                {% endfor %}\"\"\"\n",
    "\n",
    "    # Tokenizer config\n",
    "    if not tokenizer.pad_token:\n",
    "        # eos_token: end of sequence tokens\n",
    "        tokenizer.pad_token = tokenizer.eos_token\n",
    "\n",
    "    return model, tokenizer"
   ]
  },
  {
   "cell_type": "code",
   "execution_count": 11,
   "id": "5bd15e1d-6ecd-4337-a5dd-1602da354f62",
   "metadata": {
    "height": 319
   },
   "outputs": [],
   "source": [
    "def display_dataset(dataset):\n",
    "    # Visualize the dataset\n",
    "    rows = []\n",
    "    print(dataset)\n",
    "    for i in range(10):\n",
    "        example = dataset[i]\n",
    "        user_msg = next(\n",
    "            m[\"content\"] for m in example[\"messages\"] if m[\"role\"] == \"user\"\n",
    "        )\n",
    "        assistant_msg = next(\n",
    "            m[\"content\"] for m in example[\"messages\"] if m[\"role\"] == \"assistant\"\n",
    "        )\n",
    "        rows.append({\"User Prompt\": user_msg, \"Assistant Response\": assistant_msg})\n",
    "\n",
    "    # Display as table\n",
    "    df = pd.DataFrame(rows)\n",
    "    pd.set_option(\"display.max_colwidth\", None)  # Avoid truncating long strings\n",
    "    display(df)"
   ]
  },
  {
   "cell_type": "markdown",
   "id": "0f5ac817-43a4-43c9-88f3-9825b96b84b7",
   "metadata": {},
   "source": [
    "## Load base model & test on simple questions"
   ]
  },
  {
   "cell_type": "code",
   "execution_count": null,
   "id": "4fed78c2-ea93-4ac2-bd6f-5d4391de7c8d",
   "metadata": {
    "height": 132
   },
   "outputs": [],
   "source": [
    "USE_GPU = True\n",
    "\n",
    "questions = [\n",
    "    \"Give me an 1-sentence introduction of LLM.\",\n",
    "    \"Calculate 1+1-1\",\n",
    "    \"What's the difference between thread and process?\",\n",
    "]"
   ]
  },
  {
   "cell_type": "code",
   "execution_count": null,
   "id": "ba426c74-4d93-42b3-b2c7-5791fb9bf3c5",
   "metadata": {
    "height": 115
   },
   "outputs": [],
   "source": [
    "model, tokenizer = load_model_and_tokenizer(\"../../../models/Qwen3-0.6B-Base\", USE_GPU)\n",
    "\n",
    "test_model_with_questions(\n",
    "    model, tokenizer, questions, title=\"Base Model (Before SFT) Output\"\n",
    ")\n",
    "\n",
    "del model, tokenizer"
   ]
  },
  {
   "cell_type": "markdown",
   "id": "885253e0-3a9a-4b42-a36b-a8a3ddd340a1",
   "metadata": {},
   "source": [
    "## SFT results on Qwen3-0.6B model\n",
    "\n",
    "In this section, we're reviewing the results of a previously completed SFT training. Due to limited resources, we won’t be running the full training on a relatively large model like Qwen3-0.6B. However, in the next section of this notebook, you’ll walk through the full training process using a smaller model and a lightweight dataset."
   ]
  },
  {
   "cell_type": "code",
   "execution_count": null,
   "id": "6e86f13c-c969-4c7e-8702-d074ee7a2ce6",
   "metadata": {
    "height": 115
   },
   "outputs": [],
   "source": [
    "model, tokenizer = load_model_and_tokenizer(\"../../../models/Qwen3-0.6B-SFT\", USE_GPU)\n",
    "\n",
    "test_model_with_questions(\n",
    "    model, tokenizer, questions, title=\"Base Model (After SFT) Output\"\n",
    ")\n",
    "\n",
    "del model, tokenizer"
   ]
  },
  {
   "cell_type": "markdown",
   "id": "ccf299ee-aa84-4c43-8d7b-f0998077e2cb",
   "metadata": {},
   "source": [
    "## Doing SFT on a small model"
   ]
  },
  {
   "cell_type": "markdown",
   "id": "7c5cb7ea-e157-418e-84f5-34ecbed823ad",
   "metadata": {},
   "source": [
    "<div style=\"background-color:#fff6ff; padding:13px; border-width:3px; border-color:#efe6ef; border-style:solid; border-radius:6px\">\n",
    "<p> 💻 &nbsp; <b>Note:</b> We're performing SFT on a small model <code>HuggingFaceTB/SmolLM2-135M</code> and a smaller training dataset to to ensure the full training process can run on limited computational resources. If you're running the notebooks on your own machine and have access to a GPU, feel free to switch to a larger model—such as <code>Qwen/Qwen3-0.6B-Base</code>—to perform full SFT and reproduce the results shown above.</p>\n",
    "</div>"
   ]
  },
  {
   "cell_type": "code",
   "execution_count": null,
   "id": "fdb07589-049d-432e-8001-e6e9175ad806",
   "metadata": {
    "height": 47
   },
   "outputs": [],
   "source": [
    "# model_name = \"../../../models/SmolLM2-135M\"\n",
    "# switch to a bigger model for qwen base\n",
    "model_name = \"../../../models/Qwen3-0.6B-Base/\"\n",
    "model, tokenizer = load_model_and_tokenizer(model_name, USE_GPU)"
   ]
  },
  {
   "cell_type": "code",
   "execution_count": 12,
   "id": "20d52c3e-9c6c-43c3-bd95-92d60b9c9a8f",
   "metadata": {
    "height": 98
   },
   "outputs": [
    {
     "name": "stdout",
     "output_type": "stream",
     "text": [
      "2961\n",
      "Dataset({\n",
      "    features: ['messages'],\n",
      "    num_rows: 2961\n",
      "})\n"
     ]
    },
    {
     "data": {
      "text/html": [
       "<div>\n",
       "<style scoped>\n",
       "    .dataframe tbody tr th:only-of-type {\n",
       "        vertical-align: middle;\n",
       "    }\n",
       "\n",
       "    .dataframe tbody tr th {\n",
       "        vertical-align: top;\n",
       "    }\n",
       "\n",
       "    .dataframe thead th {\n",
       "        text-align: right;\n",
       "    }\n",
       "</style>\n",
       "<table border=\"1\" class=\"dataframe\">\n",
       "  <thead>\n",
       "    <tr style=\"text-align: right;\">\n",
       "      <th></th>\n",
       "      <th>User Prompt</th>\n",
       "      <th>Assistant Response</th>\n",
       "    </tr>\n",
       "  </thead>\n",
       "  <tbody>\n",
       "    <tr>\n",
       "      <th>0</th>\n",
       "      <td>- The left child should have a value less than the parent node's value, and the right child should have a value greater than the parent node's value.</td>\n",
       "      <td>This statement is correct. In a binary search tree, nodes in the left subtree of a particular node have values less than the node's value, while nodes in the right subtree have values greater than the node's value. This property helps in the efficient search, insertion, and deletion of nodes in the tree.</td>\n",
       "    </tr>\n",
       "    <tr>\n",
       "      <th>1</th>\n",
       "      <td>To pass three levels must be the plan.\\nThen tackle Two, when that is done.\\nOf 100 that start, at the end will be 20.\\nFinQuiz is a website that helps you prepare.\\nUse it to be stress-free, and not lose your hair.\\nThen, take the exam with a smile on your face.\\nBe confident that you will gain your place.\\nSo make this the goal to which you aspire. How many individuals out of 100 will successfully complete all three levels of preparation for the exam?</td>\n",
       "      <td>Based on the given information, out of 100 individuals who start, only 20 will make it to the end. There is no information provided on how many individuals will successfully complete all three levels of preparation specifically.</td>\n",
       "    </tr>\n",
       "    <tr>\n",
       "      <th>2</th>\n",
       "      <td>Can you translate the text material into Spanish or any other language?: He really is, you know.\\nThings a hero should show.\\nHe loves me more than a zillion things.\\nHe loves me when I sing my jolly folktale rhymes.\\nHe's good, not just good, in fact he's great!\\nBut because he's my best mate!\\nWOW !!! I love it!!!!</td>\n",
       "      <td>¿Puede traducir el texto a español o a cualquier otro idioma?: \\nRealmente lo es, ya sabes.\\nCosas que un héroe debería demostrar.\\nMe quiere más que un millón de cosas.\\nMe quiere cuando canto mis alegres rimas de cuentos populares.\\nEs bueno, no solo bueno, ¡de hecho es genial!\\n¡Pero porque es mi mejor amigo!\\n¡WOW! ¡Me encanta!</td>\n",
       "    </tr>\n",
       "    <tr>\n",
       "      <th>3</th>\n",
       "      <td>Complete feed for exotic fishes and turtles, granules of 3mm.\\nIt is administered to fishes and turtles only the quantity that they consume in 5 to 10 minutes.\\nStore at room temperature (15 – 25 C˚), away from moisture. Keep out of children’s reach. Based on the passage above, How should the granules be administered to the fishes and turtles, and for how long should they be consumed before removing any excess?</td>\n",
       "      <td>The granules should be administered to the fishes and turtles in the quantity that they can consume in 5 to 10 minutes. Any excess should be removed.</td>\n",
       "    </tr>\n",
       "    <tr>\n",
       "      <th>4</th>\n",
       "      <td>Write a funny limerick about a person with a strange obsession. Make sure to include a rhyming scheme of AABBA and use humorous language to describe their odd fixation. Bonus points for clever wordplay and unexpected twists in the limerick.</td>\n",
       "      <td>There once was a man from Quebec\\nWhose obsession was quite a wreck\\nHe collected old plates\\nAt garage sales and estates\\nBut only the ones with a speck\\n\\nHe'd clean them obsessively well\\nEach one looked like heaven, no hell\\nHis friends thought him crazy\\nFor being so hazy\\nBut his obsession he could not quell\\n\\nOne day he found a plate so rare\\nIt glowed with a magical flair\\nHe held it with glee\\nBut then suddenly\\nIt vanished right into thin air\\n\\nHe looked all around, oh so dazed\\nHis obsession now left in a craze\\nHe searched without rest\\nTill he realized, crest\\nHe was missing a meal he once praised!</td>\n",
       "    </tr>\n",
       "    <tr>\n",
       "      <th>5</th>\n",
       "      <td>Midland Swimmer (London, Ontario: Brick Books, 1996): 31.\\n9farewells swelled with hopes of come again.\\n14odd reports of happy returns petered out.\\n19that didn't exist, or passing off maps as places.\\n24paperbacks stalled on the revolving racks.\\n35abandoned at the dock -- someone to stand by.\\n38the open-armed return of all your relations. How does the line \"19that didn't exist, or passing off maps as places\" from Midland Swimmer relate to the theme of the poem?</td>\n",
       "      <td>The line speaks to the idea of deception and the creation of false reality. This aligns with the overall theme of the poem, which explores the concept of home and the longing for connection and belonging. The notion of passing off maps as places suggests a lack of authenticity and a longing for something that does not truly exist. This could be interpreted as a parallel to the speaker's desire for a home or a sense of belonging that may be equally illusory.</td>\n",
       "    </tr>\n",
       "    <tr>\n",
       "      <th>6</th>\n",
       "      <td>Given the text: Name my Arts Marketing Blog! - Name Contest. Pick the perfect name.\\nName my Arts Marketing Blog!\\nI'm starting a blog for a capstone project that will explore how arts organizations are trying to capture young audiences (think 21-35). Ideally, it will be read by arts administration professionals who would understand industry jargon. I want something catchy, maybe 2-4 words. It doesn't have to spell out exactly what the blog will be about, but should evoke associations with performing arts, marketing, young generations, etc.\\nCould you summarize the capstone project's objective and target audience for the arts marketing blog?</td>\n",
       "      <td>The capstone project aims to explore how arts organizations can attract younger audiences (21-35) through marketing, and the target audience for the blog is arts administration professionals who understand industry jargon. The blog's name should be catchy and evoke associations with performing arts, marketing, and young generations.</td>\n",
       "    </tr>\n",
       "    <tr>\n",
       "      <th>7</th>\n",
       "      <td>- The queue size should be dynamically adjusted as elements are added or removed.</td>\n",
       "      <td>This is a good practice as it helps in efficient utilization of resources and prevents overflow or underflow situations. When elements are added to the queue, the size of the queue should be increased dynamically to accommodate the new elements. Similarly, when elements are removed from the queue, the size of the queue should be reduced dynamically to free up the memory resources. This ensures that the queue always has sufficient space to hold the elements being added, without wasting any unnecessary memory. Additionally, dynamically adjusting the queue size also helps in improving the performance of the queue operations, such as enqueue and dequeue, as the queue size is always optimized based on the current number of elements in the queue.</td>\n",
       "    </tr>\n",
       "    <tr>\n",
       "      <th>8</th>\n",
       "      <td>What kind of research did the screenwriters undertake to get the background of the lead character right in \"The Queen's Gambit?\"</td>\n",
       "      <td>According to interviews with the show's creator and writer Scott Frank, and the author of the novel upon which the series is based Walter Tevis, extensive research was conducted to ensure that the background of the lead character was accurate. This research included studying books on chess, interviewing chess experts, consulting with former female players to understand the challenges faced by women in the male-dominated chess world, and reading about the history of orphanages and drug addiction treatment in the 1960s. Additionally, the creative team visited Eastern Europe, where much of the show is set, to get a sense of the culture and atmosphere of the time. Finally, they consulted psychologists and addiction experts to accurately depict the effects of drugs on the human brain.</td>\n",
       "    </tr>\n",
       "    <tr>\n",
       "      <th>9</th>\n",
       "      <td>Given the text: The original Alice was equivalent to the TRS-80 MC-10.\\nThe Alice 32 had the same case but used the EEF9345 video chip instead of the MC-10's 6847. The RAM was doubled from 4KB to 8KB.\\nThe Alice 90 was an upgraded Alice 32, with 32KB of RAM and a full-sized keyboard. It could also accept EF9345 video input to allow overlaying graphics on an external video feed.\\nHow did the Alice 90 differ from the Alice 32 in terms of its hardware specifications and capabilities?</td>\n",
       "      <td>The Alice 90 had 32KB of RAM and a full-sized keyboard, while the Alice 32 had only 8KB of RAM and a smaller keyboard. The Alice 90 also had the capability to accept EF9345 video input, allowing for graphics to be overlaid on an external video feed, while the Alice 32 used the EEF9345 video chip instead of the MC-10's 6847.</td>\n",
       "    </tr>\n",
       "  </tbody>\n",
       "</table>\n",
       "</div>"
      ],
      "text/plain": [
       "                                                                                                                                                                                                                                                                                                                                                                                                                                                                                                                                                                                                                                                                 User Prompt  \\\n",
       "0                                                                                                                                                                                                                                                                                                                                                                                                                                                                                                                      - The left child should have a value less than the parent node's value, and the right child should have a value greater than the parent node's value.   \n",
       "1                                                                                                                                                                                                  To pass three levels must be the plan.\\nThen tackle Two, when that is done.\\nOf 100 that start, at the end will be 20.\\nFinQuiz is a website that helps you prepare.\\nUse it to be stress-free, and not lose your hair.\\nThen, take the exam with a smile on your face.\\nBe confident that you will gain your place.\\nSo make this the goal to which you aspire. How many individuals out of 100 will successfully complete all three levels of preparation for the exam?   \n",
       "2                                                                                                                                                                                                                                                                                                                                             Can you translate the text material into Spanish or any other language?: He really is, you know.\\nThings a hero should show.\\nHe loves me more than a zillion things.\\nHe loves me when I sing my jolly folktale rhymes.\\nHe's good, not just good, in fact he's great!\\nBut because he's my best mate!\\nWOW !!! I love it!!!!   \n",
       "3                                                                                                                                                                                                                                             Complete feed for exotic fishes and turtles, granules of 3mm.\\nIt is administered to fishes and turtles only the quantity that they consume in 5 to 10 minutes.\\nStore at room temperature (15 – 25 C˚), away from moisture. Keep out of children’s reach. Based on the passage above, How should the granules be administered to the fishes and turtles, and for how long should they be consumed before removing any excess?   \n",
       "4                                                                                                                                                                                                                                                                                                                                                                                                                           Write a funny limerick about a person with a strange obsession. Make sure to include a rhyming scheme of AABBA and use humorous language to describe their odd fixation. Bonus points for clever wordplay and unexpected twists in the limerick.   \n",
       "5                                                                                                                                                                                      Midland Swimmer (London, Ontario: Brick Books, 1996): 31.\\n9farewells swelled with hopes of come again.\\n14odd reports of happy returns petered out.\\n19that didn't exist, or passing off maps as places.\\n24paperbacks stalled on the revolving racks.\\n35abandoned at the dock -- someone to stand by.\\n38the open-armed return of all your relations. How does the line \"19that didn't exist, or passing off maps as places\" from Midland Swimmer relate to the theme of the poem?   \n",
       "6  Given the text: Name my Arts Marketing Blog! - Name Contest. Pick the perfect name.\\nName my Arts Marketing Blog!\\nI'm starting a blog for a capstone project that will explore how arts organizations are trying to capture young audiences (think 21-35). Ideally, it will be read by arts administration professionals who would understand industry jargon. I want something catchy, maybe 2-4 words. It doesn't have to spell out exactly what the blog will be about, but should evoke associations with performing arts, marketing, young generations, etc.\\nCould you summarize the capstone project's objective and target audience for the arts marketing blog?   \n",
       "7                                                                                                                                                                                                                                                                                                                                                                                                                                                                                                                                                                                          - The queue size should be dynamically adjusted as elements are added or removed.   \n",
       "8                                                                                                                                                                                                                                                                                                                                                                                                                                                                                                                                           What kind of research did the screenwriters undertake to get the background of the lead character right in \"The Queen's Gambit?\"   \n",
       "9                                                                                                                                                                      Given the text: The original Alice was equivalent to the TRS-80 MC-10.\\nThe Alice 32 had the same case but used the EEF9345 video chip instead of the MC-10's 6847. The RAM was doubled from 4KB to 8KB.\\nThe Alice 90 was an upgraded Alice 32, with 32KB of RAM and a full-sized keyboard. It could also accept EF9345 video input to allow overlaying graphics on an external video feed.\\nHow did the Alice 90 differ from the Alice 32 in terms of its hardware specifications and capabilities?   \n",
       "\n",
       "                                                                                                                                                                                                                                                                                                                                                                                                                                                                                                                                                                                                                                                                                                                                                                                                       Assistant Response  \n",
       "0                                                                                                                                                                                                                                                                                                                                                                                                                                                                                                       This statement is correct. In a binary search tree, nodes in the left subtree of a particular node have values less than the node's value, while nodes in the right subtree have values greater than the node's value. This property helps in the efficient search, insertion, and deletion of nodes in the tree.  \n",
       "1                                                                                                                                                                                                                                                                                                                                                                                                                                                                                                                                                                                    Based on the given information, out of 100 individuals who start, only 20 will make it to the end. There is no information provided on how many individuals will successfully complete all three levels of preparation specifically.  \n",
       "2                                                                                                                                                                                                                                                                                                                                                                                                                                                                           ¿Puede traducir el texto a español o a cualquier otro idioma?: \\nRealmente lo es, ya sabes.\\nCosas que un héroe debería demostrar.\\nMe quiere más que un millón de cosas.\\nMe quiere cuando canto mis alegres rimas de cuentos populares.\\nEs bueno, no solo bueno, ¡de hecho es genial!\\n¡Pero porque es mi mejor amigo!\\n¡WOW! ¡Me encanta!  \n",
       "3                                                                                                                                                                                                                                                                                                                                                                                                                                                                                                                                                                                                                                                                   The granules should be administered to the fishes and turtles in the quantity that they can consume in 5 to 10 minutes. Any excess should be removed.  \n",
       "4                                                                                                                                                                            There once was a man from Quebec\\nWhose obsession was quite a wreck\\nHe collected old plates\\nAt garage sales and estates\\nBut only the ones with a speck\\n\\nHe'd clean them obsessively well\\nEach one looked like heaven, no hell\\nHis friends thought him crazy\\nFor being so hazy\\nBut his obsession he could not quell\\n\\nOne day he found a plate so rare\\nIt glowed with a magical flair\\nHe held it with glee\\nBut then suddenly\\nIt vanished right into thin air\\n\\nHe looked all around, oh so dazed\\nHis obsession now left in a craze\\nHe searched without rest\\nTill he realized, crest\\nHe was missing a meal he once praised!  \n",
       "5                                                                                                                                                                                                                                                                                                                                           The line speaks to the idea of deception and the creation of false reality. This aligns with the overall theme of the poem, which explores the concept of home and the longing for connection and belonging. The notion of passing off maps as places suggests a lack of authenticity and a longing for something that does not truly exist. This could be interpreted as a parallel to the speaker's desire for a home or a sense of belonging that may be equally illusory.  \n",
       "6                                                                                                                                                                                                                                                                                                                                                                                                                                                                          The capstone project aims to explore how arts organizations can attract younger audiences (21-35) through marketing, and the target audience for the blog is arts administration professionals who understand industry jargon. The blog's name should be catchy and evoke associations with performing arts, marketing, and young generations.  \n",
       "7                                          This is a good practice as it helps in efficient utilization of resources and prevents overflow or underflow situations. When elements are added to the queue, the size of the queue should be increased dynamically to accommodate the new elements. Similarly, when elements are removed from the queue, the size of the queue should be reduced dynamically to free up the memory resources. This ensures that the queue always has sufficient space to hold the elements being added, without wasting any unnecessary memory. Additionally, dynamically adjusting the queue size also helps in improving the performance of the queue operations, such as enqueue and dequeue, as the queue size is always optimized based on the current number of elements in the queue.  \n",
       "8  According to interviews with the show's creator and writer Scott Frank, and the author of the novel upon which the series is based Walter Tevis, extensive research was conducted to ensure that the background of the lead character was accurate. This research included studying books on chess, interviewing chess experts, consulting with former female players to understand the challenges faced by women in the male-dominated chess world, and reading about the history of orphanages and drug addiction treatment in the 1960s. Additionally, the creative team visited Eastern Europe, where much of the show is set, to get a sense of the culture and atmosphere of the time. Finally, they consulted psychologists and addiction experts to accurately depict the effects of drugs on the human brain.  \n",
       "9                                                                                                                                                                                                                                                                                                                                                                                                                                                                                   The Alice 90 had 32KB of RAM and a full-sized keyboard, while the Alice 32 had only 8KB of RAM and a smaller keyboard. The Alice 90 also had the capability to accept EF9345 video input, allowing for graphics to be overlaid on an external video feed, while the Alice 32 used the EEF9345 video chip instead of the MC-10's 6847.  "
      ]
     },
     "metadata": {},
     "output_type": "display_data"
    },
    {
     "name": "stdout",
     "output_type": "stream",
     "text": [
      "Dataset({\n",
      "    features: ['messages'],\n",
      "    num_rows: 2961\n",
      "})\n"
     ]
    }
   ],
   "source": [
    "train_dataset = load_dataset(\"../../../data/banghua/DL-SFT-Dataset\")[\"train\"]\n",
    "print(len(train_dataset))\n",
    "display_dataset(train_dataset)\n",
    "print(train_dataset)"
   ]
  },
  {
   "cell_type": "code",
   "execution_count": null,
   "id": "01c515a8-3728-45fa-88cc-6eb4de839839",
   "metadata": {
    "height": 198
   },
   "outputs": [],
   "source": [
    "# SFTTrainer config\n",
    "sft_config = SFTConfig(\n",
    "    learning_rate=8e-5,  # Learning rate for training.\n",
    "    num_train_epochs=1,  #  Set the number of epochs to train the model.\n",
    "    per_device_train_batch_size=1,  # Batch size for each device (e.g., GPU) during training.\n",
    "    gradient_accumulation_steps=8,  # Number of steps before performing a backward/update pass to accumulate gradients.\n",
    "    gradient_checkpointing=False,  # Enable gradient checkpointing to reduce memory usage during training at the cost of slower training speed.\n",
    "    logging_steps=2,  # Frequency of logging training progress (log every 2 steps).\n",
    ")"
   ]
  },
  {
   "cell_type": "code",
   "execution_count": null,
   "id": "5cd7d132-4c69-4b12-a8ec-e6b4795faad9",
   "metadata": {
    "height": 132
   },
   "outputs": [],
   "source": [
    "sft_trainer = SFTTrainer(\n",
    "    model=model,\n",
    "    args=sft_config,\n",
    "    train_dataset=train_dataset,\n",
    "    processing_class=tokenizer,\n",
    ")\n",
    "sft_trainer.train()"
   ]
  },
  {
   "cell_type": "markdown",
   "id": "56b4bac1-7262-4c55-b411-6a59188157b0",
   "metadata": {},
   "source": [
    "## Testing training results on small model and small dataset\n",
    "\n",
    "**Note:** The following results are for the small model and dataset we used for SFT training, due to limited computational resources. To view the results of full-scale training on a larger model, see the **\"SFT Results on Qwen3-0.6B Model\"** section above."
   ]
  },
  {
   "cell_type": "code",
   "execution_count": null,
   "id": "0d678274-5768-4cea-ae20-051488e5d0f3",
   "metadata": {
    "height": 81
   },
   "outputs": [],
   "source": [
    "if not USE_GPU:  # move model to CPU when GPU isn’t requested\n",
    "    sft_trainer.model.to(\"cpu\")\n",
    "test_model_with_questions(\n",
    "    sft_trainer.model, tokenizer, questions, title=\"Base Model (After SFT) Output\"\n",
    ")"
   ]
  }
 ],
 "metadata": {
  "kernelspec": {
   "display_name": "tuning",
   "language": "python",
   "name": "python3"
  },
  "language_info": {
   "codemirror_mode": {
    "name": "ipython",
    "version": 3
   },
   "file_extension": ".py",
   "mimetype": "text/x-python",
   "name": "python",
   "nbconvert_exporter": "python",
   "pygments_lexer": "ipython3",
   "version": "3.13.7"
  }
 },
 "nbformat": 4,
 "nbformat_minor": 5
}
